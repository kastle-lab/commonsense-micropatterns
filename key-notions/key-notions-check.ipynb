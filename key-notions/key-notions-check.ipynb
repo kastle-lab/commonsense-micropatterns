{
 "cells": [
  {
   "cell_type": "code",
   "execution_count": 38,
   "metadata": {},
   "outputs": [],
   "source": [
    "with open(\"csterms.txt\", \"r\") as inp:\n",
    "    lines = [ line.strip().lower() for line in inp.readlines()]\n",
    "csWords = lines\n",
    "\n",
    "with open(\"enslavedterms.txt\", \"r\") as inp:\n",
    "    lines = [ line.strip().lower() for line in inp.readlines()]\n",
    "\n",
    "enslavedWords = lines\n",
    "\n",
    "with open(\"kwg-key-notions.txt\", \"r\") as inp:\n",
    "    lines = [ line.strip().lower() for line in inp.readlines()]\n",
    "\n",
    "kwg = lines\n",
    "\n",
    "with open(\"proto-okn-key-notions.txt\", \"r\") as inp:\n",
    "    lines = [ line.strip().lower() for line in inp.readlines()]\n",
    "\n",
    "okn = lines"
   ]
  },
  {
   "cell_type": "code",
   "execution_count": 39,
   "metadata": {},
   "outputs": [
    {
     "name": "stdout",
     "output_type": "stream",
     "text": [
      "place\n",
      "name\n",
      "time\n"
     ]
    }
   ],
   "source": [
    "# OKN overlap\n",
    "csoverlapSet = set()\n",
    "## words from proto-okn inside csmodl\n",
    "for o in okn:\n",
    "    if o in csWords:\n",
    "        csoverlapSet.add(o)\n",
    "\n",
    "##  Words from kwg inside csmodl\n",
    "for k in kwg:\n",
    "    if k in csWords:\n",
    "        csoverlapSet.add(k)\n",
    "\n",
    "with open(\"key-notions-in-csmodl.txt\", \"w\") as out:\n",
    "    for word in csoverlapSet:\n",
    "        out.write(f\"{word}\\n\")\n",
    "\n",
    "enslavedoverlapSet = set()\n",
    "# KWG overlap\n",
    "##  Words from kwg inside enslavedmodl\n",
    "for k in kwg:\n",
    "    if k in enslavedWords:\n",
    "        enslavedoverlapSet.add(k)\n",
    "\n",
    "\n",
    "## words from proto-okn inside enslaved\n",
    "for o in okn:\n",
    "    if o in enslavedWords:\n",
    "        csoverlapSet.add(o)\n",
    "\n",
    "with open(\"key-notions-in-enslaved.txt\", \"w\") as out:\n",
    "    for word in enslavedoverlapSet:\n",
    "        out.write(f\"{word}\\n\")\n",
    "\n",
    "for word in csoverlapSet:\n",
    "    if word in enslavedoverlapSet:\n",
    "        print(word)\n"
   ]
  }
 ],
 "metadata": {
  "kernelspec": {
   "display_name": "Python 3",
   "language": "python",
   "name": "python3"
  },
  "language_info": {
   "codemirror_mode": {
    "name": "ipython",
    "version": 3
   },
   "file_extension": ".py",
   "mimetype": "text/x-python",
   "name": "python",
   "nbconvert_exporter": "python",
   "pygments_lexer": "ipython3",
   "version": "3.10.12"
  }
 },
 "nbformat": 4,
 "nbformat_minor": 2
}
