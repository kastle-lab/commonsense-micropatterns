{
 "cells": [
  {
   "cell_type": "code",
   "execution_count": 19,
   "metadata": {},
   "outputs": [],
   "source": [
    "with open(\"csterms.txt\", \"r\") as inp:\n",
    "    lines = [ line.strip().lower() for line in inp.readlines()]\n",
    "csWords = lines\n",
    "\n",
    "with open(\"enslavedterms.txt\", \"r\") as inp:\n",
    "    lines = [ line.strip().lower() for line in inp.readlines()]\n",
    "\n",
    "enslavedWords = lines\n",
    "\n",
    "with open(\"kwg-key-notions.txt\", \"r\") as inp:\n",
    "    lines = [ line.strip().lower() for line in inp.readlines()]\n",
    "\n",
    "kwg = lines\n",
    "\n",
    "with open(\"proto-okn-key-notions.txt\", \"r\") as inp:\n",
    "    lines = [ line.strip().lower() for line in inp.readlines()]\n",
    "\n",
    "okn = lines"
   ]
  },
  {
   "cell_type": "code",
   "execution_count": 22,
   "metadata": {},
   "outputs": [
    {
     "name": "stdout",
     "output_type": "stream",
     "text": [
      "service\n",
      "case\n",
      "hour\n",
      "\n",
      "\n",
      "condition\n",
      "condition\n",
      "cause\n",
      "service\n",
      "material\n",
      "library\n",
      "institution\n",
      "researcher\n",
      "event\n",
      "interest\n",
      "judge\n",
      "case\n",
      "language\n",
      "hour\n"
     ]
    }
   ],
   "source": [
    "# OKN overlap\n",
    "oknoverlap = []\n",
    "## words from proto-okn inside csmodl\n",
    "for o in okn:\n",
    "    if o in csWords:\n",
    "        print(o)\n",
    "        oknoverlap.append(o)\n",
    "\n",
    "\n",
    "print(\"\\n\")\n",
    "\n",
    "## words from proto-okn inside enslaved\n",
    "for o in okn:\n",
    "    if o in enslavedWords:\n",
    "        print(o)\n",
    "        oknoverlap.append(o)\n",
    "\n",
    "\n"
   ]
  },
  {
   "cell_type": "code",
   "execution_count": 23,
   "metadata": {},
   "outputs": [
    {
     "name": "stdout",
     "output_type": "stream",
     "text": [
      "place\n",
      "name\n",
      "time\n",
      "place\n",
      "name\n",
      "fire\n",
      "region\n",
      "time\n",
      "land\n"
     ]
    }
   ],
   "source": [
    "# KWG overlap\n",
    "##  Words from kwg inside csmodl\n",
    "kwgoverlap = []\n",
    "for k in kwg:\n",
    "    if k in csWords:\n",
    "        print(k)\n",
    "        kwgoverlap.append(k)\n",
    "\n",
    "##  Words from kwg inside enslavedmodl\n",
    "for k in kwg:\n",
    "    if k in enslavedWords:\n",
    "        print(k)\n",
    "        kwgoverlap.append(k)\n"
   ]
  }
 ],
 "metadata": {
  "kernelspec": {
   "display_name": "Python 3",
   "language": "python",
   "name": "python3"
  },
  "language_info": {
   "codemirror_mode": {
    "name": "ipython",
    "version": 3
   },
   "file_extension": ".py",
   "mimetype": "text/x-python",
   "name": "python",
   "nbconvert_exporter": "python",
   "pygments_lexer": "ipython3",
   "version": "3.10.12"
  }
 },
 "nbformat": 4,
 "nbformat_minor": 2
}
